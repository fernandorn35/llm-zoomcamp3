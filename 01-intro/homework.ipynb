{
 "cells": [
  {
   "cell_type": "code",
   "execution_count": 1,
   "id": "b216ccc7-f1a8-4e18-9865-6ee486c6147c",
   "metadata": {},
   "outputs": [],
   "source": [
    "import openai"
   ]
  },
  {
   "cell_type": "code",
   "execution_count": 2,
   "id": "093b9596-22e9-4627-ba5d-2a74d42cf6fa",
   "metadata": {},
   "outputs": [],
   "source": [
    "from openai import OpenAI"
   ]
  },
  {
   "cell_type": "code",
   "execution_count": 5,
   "id": "d51753fc-a05d-4e9f-8efe-858736078a0a",
   "metadata": {},
   "outputs": [],
   "source": [
    "client = OpenAI()"
   ]
  },
  {
   "cell_type": "code",
   "execution_count": 6,
   "id": "ec254234-6e75-40f2-a2f6-76ff62587ad1",
   "metadata": {},
   "outputs": [],
   "source": [
    "import os"
   ]
  },
  {
   "cell_type": "code",
   "execution_count": 15,
   "id": "7c7fc961-55e9-4254-bc82-b9a50a78f9d7",
   "metadata": {},
   "outputs": [],
   "source": [
    "response = client.chat.completions.create(\n",
    "    model='gpt-4o',\n",
    "    messages=[{\"role\": \"user\", \"content\": \"it is too late to join the course?\"}]\n",
    ")"
   ]
  },
  {
   "cell_type": "code",
   "execution_count": 17,
   "id": "b416f777-51e9-4961-b8e6-2c4fc9f7ab9e",
   "metadata": {},
   "outputs": [
    {
     "data": {
      "text/plain": [
       "\"I would need some additional context to help you determine if it's too late to join a course. Here are some factors to consider:\\n\\n1. **Enrollment Deadlines:** Check the enrollment deadlines for the specific course you're interested in. Many courses have a cut-off date after which you can no longer register.\\n\\n2. **Course Duration:** If the course has already started, consider how much material you may have missed and if you can realistically catch up.\\n\\n3. **Instructor Policies:** Some instructors might allow late enrollments with certain conditions, like catching up on missed assignments or lectures.\\n\\n4. **Course Type:** If it's an online or self-paced course, you may have more flexibility compared to a traditional, in-person setting.\\n\\n5. **Academic Calendar:** Check the academic calendar of the institution offering the course for more information on important dates.\\n\\nIf you're unsure, it might be best to contact the course administrator or the institution offering the course directly to see what your options are.\""
      ]
     },
     "execution_count": 17,
     "metadata": {},
     "output_type": "execute_result"
    }
   ],
   "source": [
    "response.choices[0].message.content"
   ]
  },
  {
   "cell_type": "code",
   "execution_count": null,
   "id": "0321dfa9-9f97-4de6-a512-6a81bc49cbbd",
   "metadata": {},
   "outputs": [],
   "source": []
  }
 ],
 "metadata": {
  "kernelspec": {
   "display_name": "Python 3 (ipykernel)",
   "language": "python",
   "name": "python3"
  },
  "language_info": {
   "codemirror_mode": {
    "name": "ipython",
    "version": 3
   },
   "file_extension": ".py",
   "mimetype": "text/x-python",
   "name": "python",
   "nbconvert_exporter": "python",
   "pygments_lexer": "ipython3",
   "version": "3.12.1"
  }
 },
 "nbformat": 4,
 "nbformat_minor": 5
}
